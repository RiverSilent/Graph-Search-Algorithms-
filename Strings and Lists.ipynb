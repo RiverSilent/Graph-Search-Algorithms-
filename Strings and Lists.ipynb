{
 "cells": [
  {
   "cell_type": "markdown",
   "metadata": {},
   "source": [
    "# The following coding drill is meant to illustrate the problems of using strings or lists for data that has no inherent meaning of order"
   ]
  },
  {
   "cell_type": "markdown",
   "metadata": {},
   "source": [
    "## Representing tickets using strings"
   ]
  },
  {
   "cell_type": "code",
   "execution_count": 3,
   "metadata": {
    "collapsed": true
   },
   "outputs": [],
   "source": [
    "# Tickets will represent date, priority and a short description\n",
    "\n",
    "def create_ticket_str(date,priority,description):\n",
    "    ticket = date + \"\\n\"\n",
    "    ticket += (priority + \"\\n\")\n",
    "    ticket += (description + \"\\n\") \n",
    "    return ticket"
   ]
  },
  {
   "cell_type": "code",
   "execution_count": 6,
   "metadata": {
    "collapsed": false
   },
   "outputs": [],
   "source": [
    "# An example\n",
    "\n",
    "ticket_example = create_ticket_str(\"2018-03-10\",\"High\",\"Left turn unpredictable\")"
   ]
  },
  {
   "cell_type": "code",
   "execution_count": 7,
   "metadata": {
    "collapsed": false
   },
   "outputs": [
    {
     "name": "stdout",
     "output_type": "stream",
     "text": [
      "2018-03-10\n",
      "High\n",
      "Left turn unpredictable\n",
      "\n"
     ]
    }
   ],
   "source": [
    "print(ticket_example)"
   ]
  },
  {
   "cell_type": "markdown",
   "metadata": {},
   "source": [
    "### Pick out just the description from a ticket"
   ]
  },
  {
   "cell_type": "code",
   "execution_count": 8,
   "metadata": {
    "collapsed": true
   },
   "outputs": [],
   "source": [
    "def description(ticket):\n",
    "    lines = ticket.splitlines()\n",
    "    description = lines[-1] # since description is passed in at the end\n",
    "    return description"
   ]
  },
  {
   "cell_type": "code",
   "execution_count": 9,
   "metadata": {
    "collapsed": true
   },
   "outputs": [],
   "source": [
    "desc = description(ticket_example)"
   ]
  },
  {
   "cell_type": "code",
   "execution_count": 10,
   "metadata": {
    "collapsed": false
   },
   "outputs": [
    {
     "name": "stdout",
     "output_type": "stream",
     "text": [
      "Left turn unpredictable\n"
     ]
    }
   ],
   "source": [
    "print(desc)"
   ]
  },
  {
   "cell_type": "markdown",
   "metadata": {},
   "source": [
    "### The above example worked perfectly! Now, we see an example where the above function fails"
   ]
  },
  {
   "cell_type": "code",
   "execution_count": 23,
   "metadata": {
    "collapsed": true
   },
   "outputs": [],
   "source": [
    "ticket2 = create_ticket_str(\"2018-03-20\",\"High\",\"\"\"Car went through\n",
    "NO\n",
    "ENTRY\n",
    "sign\"\"\")"
   ]
  },
  {
   "cell_type": "code",
   "execution_count": 16,
   "metadata": {
    "collapsed": false
   },
   "outputs": [],
   "source": [
    "desc2 = description(ticket2)"
   ]
  },
  {
   "cell_type": "code",
   "execution_count": 17,
   "metadata": {
    "collapsed": false
   },
   "outputs": [
    {
     "name": "stdout",
     "output_type": "stream",
     "text": [
      "sign\n"
     ]
    }
   ],
   "source": [
    "print(desc2)"
   ]
  },
  {
   "cell_type": "markdown",
   "metadata": {},
   "source": [
    "## Representing tickets with list"
   ]
  },
  {
   "cell_type": "code",
   "execution_count": 18,
   "metadata": {
    "collapsed": true
   },
   "outputs": [],
   "source": [
    "def create_ticket_dict(date,priority,description):\n",
    "    return [date,priority,description]"
   ]
  },
  {
   "cell_type": "code",
   "execution_count": 19,
   "metadata": {
    "collapsed": true
   },
   "outputs": [],
   "source": [
    "def get_description(ticket):\n",
    "    return ticket[-1]"
   ]
  },
  {
   "cell_type": "code",
   "execution_count": 20,
   "metadata": {
    "collapsed": true
   },
   "outputs": [],
   "source": [
    "ticket_dict = create_ticket_dict(\"2018-03-20\",\"High\",\"\"\"Car went through\n",
    "NO\n",
    "ENTRY\n",
    "sign\"\"\")"
   ]
  },
  {
   "cell_type": "code",
   "execution_count": 22,
   "metadata": {
    "collapsed": false
   },
   "outputs": [
    {
     "name": "stdout",
     "output_type": "stream",
     "text": [
      "Car went through\n",
      "NO\n",
      "ENTRY\n",
      "sign\n"
     ]
    }
   ],
   "source": [
    "print(get_description(ticket_dict))"
   ]
  },
  {
   "cell_type": "markdown",
   "metadata": {},
   "source": [
    "### We see that the above problem with the strings has been fixed here. But for readability purpose, we use dictionaries for such cases. ticket['description'] is more readable than ticke"
   ]
  }
 ],
 "metadata": {
  "anaconda-cloud": {},
  "kernelspec": {
   "display_name": "Python [conda env:River]",
   "language": "python",
   "name": "conda-env-River-py"
  },
  "language_info": {
   "codemirror_mode": {
    "name": "ipython",
    "version": 3
   },
   "file_extension": ".py",
   "mimetype": "text/x-python",
   "name": "python",
   "nbconvert_exporter": "python",
   "pygments_lexer": "ipython3",
   "version": "3.5.2"
  }
 },
 "nbformat": 4,
 "nbformat_minor": 1
}
